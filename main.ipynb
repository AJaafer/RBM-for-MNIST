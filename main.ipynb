{
 "cells": [
  {
   "cell_type": "markdown",
   "metadata": {},
   "source": [
    "# MNIST Reconstruction with Bernoulli Restricted Boltzmann Machines (RBM)"
   ]
  },
  {
   "cell_type": "code",
   "execution_count": 14,
   "metadata": {
    "collapsed": true
   },
   "outputs": [],
   "source": [
    "# credits to: https://github.com/patricieni/RBM-Tensorflow\n",
    "import tensorflow as tf\n",
    "import os \n",
    "import numpy as np\n",
    "from tensorflow.examples.tutorials.mnist import input_data\n",
    "import matplotlib.pyplot as plt\n",
    "import time \n",
    "\n",
    "from rbm import RBM, sample"
   ]
  },
  {
   "cell_type": "markdown",
   "metadata": {},
   "source": [
    "## TODO"
   ]
  },
  {
   "cell_type": "raw",
   "metadata": {},
   "source": [
    "- Visualize features (sample visible layer from hidden layer h=10000 ... h =00001)\n",
    "- Plot reconstruction error\n",
    "- Move to Gaussian RBM"
   ]
  },
  {
   "cell_type": "markdown",
   "metadata": {},
   "source": [
    "## Initialize RBM"
   ]
  },
  {
   "cell_type": "code",
   "execution_count": 15,
   "metadata": {},
   "outputs": [
    {
     "name": "stdout",
     "output_type": "stream",
     "text": [
      "Extracting MNIST_data\\train-images-idx3-ubyte.gz\n",
      "Extracting MNIST_data\\train-labels-idx1-ubyte.gz\n",
      "Extracting MNIST_data\\t10k-images-idx3-ubyte.gz\n",
      "Extracting MNIST_data\\t10k-labels-idx1-ubyte.gz\n"
     ]
    }
   ],
   "source": [
    "# MNIST dataset\n",
    "mnist = input_data.read_data_sets('MNIST_data', one_hot = True)\n",
    "mnist_train = mnist.train\n",
    "\n",
    "# Initialize RBM Model for MNIST reconstruction\n",
    "rbm_model = RBM(n_visible = 784, n_hidden = 64, lr = tf.constant(0.1,tf.float32), epochs = 2000)\n",
    "\n",
    "# Placeholder for the visible layer of the RBM computation graph.\n",
    "v = tf.placeholder(tf.float32, shape=[None, rbm_model.n_visible], name=\"visible_layer\")\n",
    "size = tf.cast(tf.shape(v)[0], tf.float32) # batch size"
   ]
  },
  {
   "cell_type": "markdown",
   "metadata": {},
   "source": [
    "## K-step Contrastive Divergence using Gibbs sampling"
   ]
  },
  {
   "cell_type": "code",
   "execution_count": 16,
   "metadata": {
    "collapsed": true
   },
   "outputs": [],
   "source": [
    "# Positive divergence: + v_0^T * p(h_0|v_0)\n",
    "with tf.name_scope('Hidden_probabilities'):\n",
    "    pos_hid_prob = rbm_model.get_probabilities('hidden', v)\n",
    "with tf.name_scope('Positive_Divergence'):\n",
    "    pos_divergence = tf.matmul(tf.transpose(v),pos_hid_prob)\n",
    "\n",
    "pos_hid_states = sample(pos_hid_prob)\n",
    "neg_vis_prob = rbm_model.get_probabilities('visible', pos_hid_states)\n",
    "#neg_vis_states = rbm.sample(neg_vis_prob)\n",
    "\n",
    "# Negative divergence: - v_sampled^T * p(h_sample_k+1|v_sample_k)\n",
    "with tf.name_scope('Negative_hidden_probabilities'):\n",
    "    neg_hid_prob = rbm_model.get_probabilities('hidden', neg_vis_prob)\n",
    "with tf.name_scope('Negative_Divergence'):\n",
    "    neg_divergence = tf.matmul(tf.transpose(neg_vis_prob), neg_hid_prob)"
   ]
  },
  {
   "cell_type": "markdown",
   "metadata": {},
   "source": [
    "## Update rule"
   ]
  },
  {
   "cell_type": "code",
   "execution_count": 17,
   "metadata": {
    "collapsed": true
   },
   "outputs": [],
   "source": [
    "# Update rules for weights and biases\n",
    "with tf.name_scope('Weight_gradient'):\n",
    "    delta_w = (rbm_model.lr/size)*(pos_divergence-neg_divergence)\n",
    "    weight_gradient_scalar = tf.summary.scalar('weight_increment',tf.reduce_mean(delta_w)) # Debug mode: plot weight increment during training\n",
    "with tf.name_scope('Visible_bias_gradient'):\n",
    "    delta_vb = (rbm_model.lr/size)*(tf.reduce_sum(v-neg_vis_prob, 0, keep_dims=True))\n",
    "with tf.name_scope('Hidden_bias_gradient'):\n",
    "    delta_hb= (rbm_model.lr/size)*(tf.reduce_sum(pos_hid_prob-neg_hid_prob, 0, keep_dims=True))\n",
    "\n",
    "update = [rbm_model.W.assign_add(delta_w), rbm_model.vb.assign_add(delta_vb), rbm_model.hb.assign_add(delta_hb)] "
   ]
  },
  {
   "cell_type": "markdown",
   "metadata": {},
   "source": [
    "## Train / Test metrics"
   ]
  },
  {
   "cell_type": "code",
   "execution_count": 18,
   "metadata": {
    "collapsed": true
   },
   "outputs": [],
   "source": [
    "# Similarity between reconstructed/sampled visible layer and input during training. \n",
    "rec_error = tf.reduce_mean(tf.squared_difference(v, neg_vis_prob))\n",
    "tf.summary.scalar('reconstruction_error',rec_error)\n",
    "\n",
    "# Free energy\n",
    "energy = rbm_model.free_energy(v = v)\n",
    "\n",
    "# Merge summaries for Tensorboard visualization\n",
    "summary = tf.summary.merge_all()\n",
    "# Save & restore all the variables.\n",
    "saver = tf.train.Saver({\"weights\":rbm_model.W, \"visible_bias\":rbm_model.vb, \"hidden_bias\":rbm_model.hb})"
   ]
  },
  {
   "cell_type": "markdown",
   "metadata": {},
   "source": [
    "## Launch session"
   ]
  },
  {
   "cell_type": "code",
   "execution_count": 19,
   "metadata": {
    "collapsed": true
   },
   "outputs": [],
   "source": [
    "# Create session.\n",
    "sess = tf.InteractiveSession()\n",
    "sess.run(tf.global_variables_initializer())\n",
    "\n",
    "path_test = os.getcwd() + '/RBM_logs/MNIST_Bernoulli'\n",
    "test_writer = tf.summary.FileWriter(path_test,sess.graph)\n",
    "\n",
    "start_time = time.time()"
   ]
  },
  {
   "cell_type": "markdown",
   "metadata": {},
   "source": [
    "## Train model"
   ]
  },
  {
   "cell_type": "code",
   "execution_count": 20,
   "metadata": {},
   "outputs": [
    {
     "name": "stdout",
     "output_type": "stream",
     "text": [
      "Reconstruction error at step 0: 0.309464\n",
      "Reconstruction error at step 500: 0.0327193\n",
      "Reconstruction error at step 1000: 0.0287835\n",
      "Reconstruction error at step 1500: 0.0270449\n",
      "Elapsed time for training Bernoulli RBM with CD-1 and 2000 epochs: 4.476624011993408 \n",
      "Saving model at: C:\\Users\\ASUS\\Documents\\Telecom\\Probabilistic Graphical Models\\RBM\\code/saved_model/actor.ckpt\n"
     ]
    }
   ],
   "source": [
    "for epoch in range(rbm_model.epochs):\n",
    "    if epoch % 500 == 0:\n",
    "        result = sess.run([rec_error,summary], feed_dict = {v: mnist.test.images})\n",
    "        print(\"Reconstruction error at step %s: %s\" % (epoch, result[0]))\n",
    "        #print(\"Absolute gradient estimate of log-likelihood on epoch %s is %s\" %(epoch,np.abs(err[epoch])))\n",
    "        #print log-likelihood to visualize how it decreases \n",
    "        test_writer.add_summary(result[1],epoch)\n",
    "    else: \n",
    "        batchXs, batchYs = mnist.train.next_batch(10)\n",
    "        result = sess.run([update], feed_dict = {v: batchXs})\n",
    "\n",
    "print(\"Elapsed time for training Bernoulli RBM with CD-1 and %s epochs: %s \"%(rbm_model.epochs,time.time()-start_time))\n",
    "#rbm_model.plot_weight_update(x=np.arange(0,rbm_model.epochs,1),y=np.abs(err))\n",
    "\n",
    "save_path = saver.save(sess, os.getcwd() + \"/saved_model/actor.ckpt\")\n",
    "print(\"Saving model at: %s\"%(save_path))"
   ]
  },
  {
   "cell_type": "markdown",
   "metadata": {},
   "source": [
    "## Test the RBM for one sample step"
   ]
  },
  {
   "cell_type": "code",
   "execution_count": 26,
   "metadata": {},
   "outputs": [
    {
     "data": {
      "image/png": "[encoded data removed]",
      "text/plain": [
       "<matplotlib.figure.Figure at 0x11db614e438>"
      ]
     },
     "metadata": {},
     "output_type": "display_data"
    },
    {
     "data": {
      "image/png": "[encoded data removed]",
      "text/plain": [
       "<matplotlib.figure.Figure at 0x11db4546748>"
      ]
     },
     "metadata": {},
     "output_type": "display_data"
    }
   ],
   "source": [
    "def show_digit(original, fake):\n",
    "    f, (ax1, ax2) = plt.subplots(1, 2, sharey=True)\n",
    "    ax1.imshow(original.reshape((28,28)),cmap = plt.cm.gray)\n",
    "    ax1.set_title('Original digit')\n",
    "    ax2.imshow(fake.reshape((28,28)),cmap = plt.cm.gray)\n",
    "    ax2.set_title('Sampled digit')\n",
    "    plt.show()\n",
    "\n",
    "train_image = mnist_train.images[1] # from train distribution\n",
    "sample_train = rbm_model.gibbs(1, v=v).eval(session=sess, feed_dict={v: train_image.reshape(1,-1).astype(np.float32)})  \n",
    "show_digit(original=train_image, fake=sample_train)  \n",
    "\n",
    "test_image = mnist.test.images[1] # from test distribution\n",
    "sample_test = rbm_model.gibbs(1, v=v).eval(session=sess, feed_dict={v: test_image.reshape(1,-1).astype(np.float32)})    \n",
    "show_digit(original=test_image, fake=sample_test)  \n",
    "\n",
    "tf.reset_default_graph()"
   ]
  },
  {
   "cell_type": "code",
   "execution_count": null,
   "metadata": {
    "collapsed": true
   },
   "outputs": [],
   "source": []
  }
 ],
 "metadata": {
  "kernelspec": {
   "display_name": "Python 3",
   "language": "python",
   "name": "python3"
  },
  "language_info": {
   "codemirror_mode": {
    "name": "ipython",
    "version": 3
   },
   "file_extension": ".py",
   "mimetype": "text/x-python",
   "name": "python",
   "nbconvert_exporter": "python",
   "pygments_lexer": "ipython3",
   "version": "3.5.4"
  }
 },
 "nbformat": 4,
 "nbformat_minor": 2
}
